{
 "cells": [
  {
   "cell_type": "code",
   "execution_count": 1,
   "metadata": {},
   "outputs": [
    {
     "name": "stderr",
     "output_type": "stream",
     "text": [
      "d:\\Phishy_the_phishing_detector_extension\\.venv\\Lib\\site-packages\\tqdm\\auto.py:21: TqdmWarning: IProgress not found. Please update jupyter and ipywidgets. See https://ipywidgets.readthedocs.io/en/stable/user_install.html\n",
      "  from .autonotebook import tqdm as notebook_tqdm\n"
     ]
    }
   ],
   "source": [
    "import warnings\n",
    "import torch\n",
    "from transformers import AutoTokenizer, AutoModelForSequenceClassification"
   ]
  },
  {
   "cell_type": "code",
   "execution_count": 4,
   "metadata": {},
   "outputs": [],
   "source": [
    "class URLClassifier:\n",
    "    def __init__(self):\n",
    "        model_directory = \"model\"\n",
    "        self.tokenizer = AutoTokenizer.from_pretrained(\"fine-tuned model\")\n",
    "        self.model = AutoModelForSequenceClassification.from_pretrained(\"fine-tuned model\")\n",
    "\n",
    "    def classify_url(self, user_input):\n",
    "        inputs = self.tokenizer(user_input, return_tensors=\"pt\")\n",
    "\n",
    "        # Ensure the input tensors are on the correct device (GPU if available)\n",
    "        inputs = {key: tensor.to(self.model.device) for key, tensor in inputs.items()}\n",
    "\n",
    "        # Perform inference\n",
    "        with torch.no_grad():\n",
    "            outputs = self.model(**inputs)\n",
    "\n",
    "        # Get predicted probabilities\n",
    "        probs = torch.nn.functional.softmax(outputs.logits, dim=-1)\n",
    "\n",
    "        # Get predicted label (assuming a binary classification)\n",
    "        predicted_label = probs.argmax().item()\n",
    "        \n",
    "        return predicted_label"
   ]
  },
  {
   "cell_type": "code",
   "execution_count": 9,
   "metadata": {},
   "outputs": [
    {
     "name": "stdout",
     "output_type": "stream",
     "text": [
      "0\n"
     ]
    }
   ],
   "source": [
    "if __name__ == '__main__':\n",
    "    model_directory = \"model\"  # replace with your actual model directory\n",
    "    classifier = URLClassifier()\n",
    "    user_input = \"BIT.edu.in\"  # replace with your actual input string\n",
    "    result = classifier.classify_url(user_input)\n",
    "    print(result)"
   ]
  },
  {
   "cell_type": "code",
   "execution_count": null,
   "metadata": {},
   "outputs": [],
   "source": []
  }
 ],
 "metadata": {
  "kernelspec": {
   "display_name": ".venv",
   "language": "python",
   "name": "python3"
  },
  "language_info": {
   "codemirror_mode": {
    "name": "ipython",
    "version": 3
   },
   "file_extension": ".py",
   "mimetype": "text/x-python",
   "name": "python",
   "nbconvert_exporter": "python",
   "pygments_lexer": "ipython3",
   "version": "3.12.4"
  }
 },
 "nbformat": 4,
 "nbformat_minor": 2
}
